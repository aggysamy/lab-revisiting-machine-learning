{
 "cells": [
  {
   "cell_type": "code",
   "execution_count": 3,
   "id": "7113f36f",
   "metadata": {},
   "outputs": [],
   "source": [
    "import pandas as pd\n",
    "import numpy as np\n",
    "import datetime\n",
    "import warnings\n",
    "import matplotlib.pyplot as plt\n",
    "import seaborn as sns\n",
    "\n",
    "warnings.filterwarnings('ignore')"
   ]
  },
  {
   "cell_type": "markdown",
   "id": "ef929ba2",
   "metadata": {},
   "source": [
    "# DATA WRANGLING"
   ]
  },
  {
   "cell_type": "markdown",
   "id": "cb68538c",
   "metadata": {},
   "source": [
    "Importing the Data"
   ]
  },
  {
   "cell_type": "code",
   "execution_count": 5,
   "id": "96943042",
   "metadata": {},
   "outputs": [],
   "source": [
    "data = pd.read_csv('learningSet.csv.zip')"
   ]
  },
  {
   "cell_type": "markdown",
   "id": "06e2f50a",
   "metadata": {},
   "source": [
    "Exploring the Data\n"
   ]
  },
  {
   "cell_type": "markdown",
   "id": "b8150cac",
   "metadata": {},
   "source": [
    "We will check the data types, unique values, null values and statistical overview of the data"
   ]
  },
  {
   "cell_type": "markdown",
   "id": "6f55c3a2",
   "metadata": {},
   "source": [
    "Data Overview"
   ]
  },
  {
   "cell_type": "code",
   "execution_count": 6,
   "id": "5d1dc881",
   "metadata": {},
   "outputs": [
    {
     "data": {
      "text/plain": [
       "(95412, 481)"
      ]
     },
     "execution_count": 6,
     "metadata": {},
     "output_type": "execute_result"
    }
   ],
   "source": [
    "data.shape"
   ]
  },
  {
   "cell_type": "code",
   "execution_count": 7,
   "id": "dc1a47d4",
   "metadata": {},
   "outputs": [
    {
     "data": {
      "text/html": [
       "<div>\n",
       "<style scoped>\n",
       "    .dataframe tbody tr th:only-of-type {\n",
       "        vertical-align: middle;\n",
       "    }\n",
       "\n",
       "    .dataframe tbody tr th {\n",
       "        vertical-align: top;\n",
       "    }\n",
       "\n",
       "    .dataframe thead th {\n",
       "        text-align: right;\n",
       "    }\n",
       "</style>\n",
       "<table border=\"1\" class=\"dataframe\">\n",
       "  <thead>\n",
       "    <tr style=\"text-align: right;\">\n",
       "      <th></th>\n",
       "      <th>ODATEDW</th>\n",
       "      <th>TCODE</th>\n",
       "      <th>DOB</th>\n",
       "      <th>AGE</th>\n",
       "      <th>NUMCHLD</th>\n",
       "      <th>INCOME</th>\n",
       "      <th>WEALTH1</th>\n",
       "      <th>HIT</th>\n",
       "      <th>MBCRAFT</th>\n",
       "      <th>MBGARDEN</th>\n",
       "      <th>...</th>\n",
       "      <th>FISTDATE</th>\n",
       "      <th>NEXTDATE</th>\n",
       "      <th>TIMELAG</th>\n",
       "      <th>AVGGIFT</th>\n",
       "      <th>CONTROLN</th>\n",
       "      <th>TARGET_B</th>\n",
       "      <th>TARGET_D</th>\n",
       "      <th>HPHONE_D</th>\n",
       "      <th>RFA_2F</th>\n",
       "      <th>CLUSTER2</th>\n",
       "    </tr>\n",
       "  </thead>\n",
       "  <tbody>\n",
       "    <tr>\n",
       "      <th>count</th>\n",
       "      <td>95412.000000</td>\n",
       "      <td>95412.000000</td>\n",
       "      <td>95412.000000</td>\n",
       "      <td>71747.000000</td>\n",
       "      <td>12386.000000</td>\n",
       "      <td>74126.000000</td>\n",
       "      <td>50680.000000</td>\n",
       "      <td>95412.000000</td>\n",
       "      <td>42558.000000</td>\n",
       "      <td>42558.000000</td>\n",
       "      <td>...</td>\n",
       "      <td>95412.000000</td>\n",
       "      <td>85439.000000</td>\n",
       "      <td>85439.000000</td>\n",
       "      <td>95412.000000</td>\n",
       "      <td>95412.000000</td>\n",
       "      <td>95412.000000</td>\n",
       "      <td>95412.000000</td>\n",
       "      <td>95412.000000</td>\n",
       "      <td>95412.000000</td>\n",
       "      <td>95280.000000</td>\n",
       "    </tr>\n",
       "    <tr>\n",
       "      <th>mean</th>\n",
       "      <td>9141.363256</td>\n",
       "      <td>54.223117</td>\n",
       "      <td>2723.602933</td>\n",
       "      <td>61.611649</td>\n",
       "      <td>1.527773</td>\n",
       "      <td>3.886248</td>\n",
       "      <td>5.345699</td>\n",
       "      <td>3.321438</td>\n",
       "      <td>0.152075</td>\n",
       "      <td>0.059166</td>\n",
       "      <td>...</td>\n",
       "      <td>9135.651648</td>\n",
       "      <td>9151.022917</td>\n",
       "      <td>8.093739</td>\n",
       "      <td>13.347786</td>\n",
       "      <td>95778.176959</td>\n",
       "      <td>0.050759</td>\n",
       "      <td>0.793073</td>\n",
       "      <td>0.500618</td>\n",
       "      <td>1.910053</td>\n",
       "      <td>31.533711</td>\n",
       "    </tr>\n",
       "    <tr>\n",
       "      <th>std</th>\n",
       "      <td>343.454752</td>\n",
       "      <td>953.844476</td>\n",
       "      <td>2132.241295</td>\n",
       "      <td>16.664199</td>\n",
       "      <td>0.806861</td>\n",
       "      <td>1.854960</td>\n",
       "      <td>2.742490</td>\n",
       "      <td>9.306899</td>\n",
       "      <td>0.470023</td>\n",
       "      <td>0.262078</td>\n",
       "      <td>...</td>\n",
       "      <td>320.394019</td>\n",
       "      <td>294.257260</td>\n",
       "      <td>8.213242</td>\n",
       "      <td>10.769997</td>\n",
       "      <td>55284.596094</td>\n",
       "      <td>0.219506</td>\n",
       "      <td>4.429725</td>\n",
       "      <td>0.500002</td>\n",
       "      <td>1.072749</td>\n",
       "      <td>18.764614</td>\n",
       "    </tr>\n",
       "    <tr>\n",
       "      <th>min</th>\n",
       "      <td>8306.000000</td>\n",
       "      <td>0.000000</td>\n",
       "      <td>0.000000</td>\n",
       "      <td>1.000000</td>\n",
       "      <td>1.000000</td>\n",
       "      <td>1.000000</td>\n",
       "      <td>0.000000</td>\n",
       "      <td>0.000000</td>\n",
       "      <td>0.000000</td>\n",
       "      <td>0.000000</td>\n",
       "      <td>...</td>\n",
       "      <td>0.000000</td>\n",
       "      <td>7211.000000</td>\n",
       "      <td>0.000000</td>\n",
       "      <td>1.285714</td>\n",
       "      <td>1.000000</td>\n",
       "      <td>0.000000</td>\n",
       "      <td>0.000000</td>\n",
       "      <td>0.000000</td>\n",
       "      <td>1.000000</td>\n",
       "      <td>1.000000</td>\n",
       "    </tr>\n",
       "    <tr>\n",
       "      <th>25%</th>\n",
       "      <td>8801.000000</td>\n",
       "      <td>0.000000</td>\n",
       "      <td>201.000000</td>\n",
       "      <td>48.000000</td>\n",
       "      <td>1.000000</td>\n",
       "      <td>2.000000</td>\n",
       "      <td>3.000000</td>\n",
       "      <td>0.000000</td>\n",
       "      <td>0.000000</td>\n",
       "      <td>0.000000</td>\n",
       "      <td>...</td>\n",
       "      <td>8810.000000</td>\n",
       "      <td>8903.000000</td>\n",
       "      <td>4.000000</td>\n",
       "      <td>8.384615</td>\n",
       "      <td>47910.750000</td>\n",
       "      <td>0.000000</td>\n",
       "      <td>0.000000</td>\n",
       "      <td>0.000000</td>\n",
       "      <td>1.000000</td>\n",
       "      <td>15.000000</td>\n",
       "    </tr>\n",
       "    <tr>\n",
       "      <th>50%</th>\n",
       "      <td>9201.000000</td>\n",
       "      <td>1.000000</td>\n",
       "      <td>2610.000000</td>\n",
       "      <td>62.000000</td>\n",
       "      <td>1.000000</td>\n",
       "      <td>4.000000</td>\n",
       "      <td>6.000000</td>\n",
       "      <td>0.000000</td>\n",
       "      <td>0.000000</td>\n",
       "      <td>0.000000</td>\n",
       "      <td>...</td>\n",
       "      <td>9201.000000</td>\n",
       "      <td>9204.000000</td>\n",
       "      <td>6.000000</td>\n",
       "      <td>11.636364</td>\n",
       "      <td>95681.500000</td>\n",
       "      <td>0.000000</td>\n",
       "      <td>0.000000</td>\n",
       "      <td>1.000000</td>\n",
       "      <td>2.000000</td>\n",
       "      <td>32.000000</td>\n",
       "    </tr>\n",
       "    <tr>\n",
       "      <th>75%</th>\n",
       "      <td>9501.000000</td>\n",
       "      <td>2.000000</td>\n",
       "      <td>4601.000000</td>\n",
       "      <td>75.000000</td>\n",
       "      <td>2.000000</td>\n",
       "      <td>5.000000</td>\n",
       "      <td>8.000000</td>\n",
       "      <td>3.000000</td>\n",
       "      <td>0.000000</td>\n",
       "      <td>0.000000</td>\n",
       "      <td>...</td>\n",
       "      <td>9409.000000</td>\n",
       "      <td>9409.000000</td>\n",
       "      <td>11.000000</td>\n",
       "      <td>15.477955</td>\n",
       "      <td>143643.500000</td>\n",
       "      <td>0.000000</td>\n",
       "      <td>0.000000</td>\n",
       "      <td>1.000000</td>\n",
       "      <td>3.000000</td>\n",
       "      <td>49.000000</td>\n",
       "    </tr>\n",
       "    <tr>\n",
       "      <th>max</th>\n",
       "      <td>9701.000000</td>\n",
       "      <td>72002.000000</td>\n",
       "      <td>9710.000000</td>\n",
       "      <td>98.000000</td>\n",
       "      <td>7.000000</td>\n",
       "      <td>7.000000</td>\n",
       "      <td>9.000000</td>\n",
       "      <td>241.000000</td>\n",
       "      <td>6.000000</td>\n",
       "      <td>4.000000</td>\n",
       "      <td>...</td>\n",
       "      <td>9603.000000</td>\n",
       "      <td>9702.000000</td>\n",
       "      <td>1088.000000</td>\n",
       "      <td>1000.000000</td>\n",
       "      <td>191779.000000</td>\n",
       "      <td>1.000000</td>\n",
       "      <td>200.000000</td>\n",
       "      <td>1.000000</td>\n",
       "      <td>4.000000</td>\n",
       "      <td>62.000000</td>\n",
       "    </tr>\n",
       "  </tbody>\n",
       "</table>\n",
       "<p>8 rows × 407 columns</p>\n",
       "</div>"
      ],
      "text/plain": [
       "            ODATEDW         TCODE           DOB           AGE       NUMCHLD  \\\n",
       "count  95412.000000  95412.000000  95412.000000  71747.000000  12386.000000   \n",
       "mean    9141.363256     54.223117   2723.602933     61.611649      1.527773   \n",
       "std      343.454752    953.844476   2132.241295     16.664199      0.806861   \n",
       "min     8306.000000      0.000000      0.000000      1.000000      1.000000   \n",
       "25%     8801.000000      0.000000    201.000000     48.000000      1.000000   \n",
       "50%     9201.000000      1.000000   2610.000000     62.000000      1.000000   \n",
       "75%     9501.000000      2.000000   4601.000000     75.000000      2.000000   \n",
       "max     9701.000000  72002.000000   9710.000000     98.000000      7.000000   \n",
       "\n",
       "             INCOME       WEALTH1           HIT       MBCRAFT      MBGARDEN  \\\n",
       "count  74126.000000  50680.000000  95412.000000  42558.000000  42558.000000   \n",
       "mean       3.886248      5.345699      3.321438      0.152075      0.059166   \n",
       "std        1.854960      2.742490      9.306899      0.470023      0.262078   \n",
       "min        1.000000      0.000000      0.000000      0.000000      0.000000   \n",
       "25%        2.000000      3.000000      0.000000      0.000000      0.000000   \n",
       "50%        4.000000      6.000000      0.000000      0.000000      0.000000   \n",
       "75%        5.000000      8.000000      3.000000      0.000000      0.000000   \n",
       "max        7.000000      9.000000    241.000000      6.000000      4.000000   \n",
       "\n",
       "       ...      FISTDATE      NEXTDATE       TIMELAG       AVGGIFT  \\\n",
       "count  ...  95412.000000  85439.000000  85439.000000  95412.000000   \n",
       "mean   ...   9135.651648   9151.022917      8.093739     13.347786   \n",
       "std    ...    320.394019    294.257260      8.213242     10.769997   \n",
       "min    ...      0.000000   7211.000000      0.000000      1.285714   \n",
       "25%    ...   8810.000000   8903.000000      4.000000      8.384615   \n",
       "50%    ...   9201.000000   9204.000000      6.000000     11.636364   \n",
       "75%    ...   9409.000000   9409.000000     11.000000     15.477955   \n",
       "max    ...   9603.000000   9702.000000   1088.000000   1000.000000   \n",
       "\n",
       "            CONTROLN      TARGET_B      TARGET_D      HPHONE_D        RFA_2F  \\\n",
       "count   95412.000000  95412.000000  95412.000000  95412.000000  95412.000000   \n",
       "mean    95778.176959      0.050759      0.793073      0.500618      1.910053   \n",
       "std     55284.596094      0.219506      4.429725      0.500002      1.072749   \n",
       "min         1.000000      0.000000      0.000000      0.000000      1.000000   \n",
       "25%     47910.750000      0.000000      0.000000      0.000000      1.000000   \n",
       "50%     95681.500000      0.000000      0.000000      1.000000      2.000000   \n",
       "75%    143643.500000      0.000000      0.000000      1.000000      3.000000   \n",
       "max    191779.000000      1.000000    200.000000      1.000000      4.000000   \n",
       "\n",
       "           CLUSTER2  \n",
       "count  95280.000000  \n",
       "mean      31.533711  \n",
       "std       18.764614  \n",
       "min        1.000000  \n",
       "25%       15.000000  \n",
       "50%       32.000000  \n",
       "75%       49.000000  \n",
       "max       62.000000  \n",
       "\n",
       "[8 rows x 407 columns]"
      ]
     },
     "execution_count": 7,
     "metadata": {},
     "output_type": "execute_result"
    }
   ],
   "source": [
    "data.describe()"
   ]
  },
  {
   "cell_type": "code",
   "execution_count": 8,
   "id": "b69433cc",
   "metadata": {},
   "outputs": [
    {
     "name": "stdout",
     "output_type": "stream",
     "text": [
      "<class 'pandas.core.frame.DataFrame'>\n",
      "RangeIndex: 95412 entries, 0 to 95411\n",
      "Columns: 481 entries, ODATEDW to GEOCODE2\n",
      "dtypes: float64(97), int64(310), object(74)\n",
      "memory usage: 350.1+ MB\n"
     ]
    }
   ],
   "source": [
    "data.info()"
   ]
  },
  {
   "cell_type": "markdown",
   "id": "bb7ad4e9",
   "metadata": {},
   "source": [
    "Checking the Null Values"
   ]
  },
  {
   "cell_type": "code",
   "execution_count": 9,
   "id": "4b1919e3",
   "metadata": {},
   "outputs": [
    {
     "data": {
      "text/plain": [
       "ODATEDW       0\n",
       "OSOURCE       0\n",
       "TCODE         0\n",
       "STATE         0\n",
       "ZIP           0\n",
       "           ... \n",
       "MDMAUD_R      0\n",
       "MDMAUD_F      0\n",
       "MDMAUD_A      0\n",
       "CLUSTER2    132\n",
       "GEOCODE2    132\n",
       "Length: 481, dtype: int64"
      ]
     },
     "execution_count": 9,
     "metadata": {},
     "output_type": "execute_result"
    }
   ],
   "source": [
    "data.isna().sum()"
   ]
  },
  {
   "cell_type": "code",
   "execution_count": 10,
   "id": "ec2d7b94",
   "metadata": {},
   "outputs": [],
   "source": [
    "def check_nan(df):\n",
    "    nulls = pd.DataFrame((df.isna().sum()/len(df))*100)\n",
    "    nulls = nulls.reset_index()\n",
    "    nulls.columns = ['column_name', 'percentage_null_values']\n",
    "    nulls.sort_values(by='percentage_null_values', ascending = False, inplace = True)\n",
    "    return nulls"
   ]
  },
  {
   "cell_type": "code",
   "execution_count": 11,
   "id": "22be38c1",
   "metadata": {},
   "outputs": [
    {
     "data": {
      "text/html": [
       "<div>\n",
       "<style scoped>\n",
       "    .dataframe tbody tr th:only-of-type {\n",
       "        vertical-align: middle;\n",
       "    }\n",
       "\n",
       "    .dataframe tbody tr th {\n",
       "        vertical-align: top;\n",
       "    }\n",
       "\n",
       "    .dataframe thead th {\n",
       "        text-align: right;\n",
       "    }\n",
       "</style>\n",
       "<table border=\"1\" class=\"dataframe\">\n",
       "  <thead>\n",
       "    <tr style=\"text-align: right;\">\n",
       "      <th></th>\n",
       "      <th>column_name</th>\n",
       "      <th>percentage_null_values</th>\n",
       "    </tr>\n",
       "  </thead>\n",
       "  <tbody>\n",
       "    <tr>\n",
       "      <th>414</th>\n",
       "      <td>RDATE_5</td>\n",
       "      <td>99.990567</td>\n",
       "    </tr>\n",
       "    <tr>\n",
       "      <th>436</th>\n",
       "      <td>RAMNT_5</td>\n",
       "      <td>99.990567</td>\n",
       "    </tr>\n",
       "    <tr>\n",
       "      <th>412</th>\n",
       "      <td>RDATE_3</td>\n",
       "      <td>99.746363</td>\n",
       "    </tr>\n",
       "    <tr>\n",
       "      <th>434</th>\n",
       "      <td>RAMNT_3</td>\n",
       "      <td>99.746363</td>\n",
       "    </tr>\n",
       "    <tr>\n",
       "      <th>413</th>\n",
       "      <td>RDATE_4</td>\n",
       "      <td>99.705488</td>\n",
       "    </tr>\n",
       "    <tr>\n",
       "      <th>...</th>\n",
       "      <td>...</td>\n",
       "      <td>...</td>\n",
       "    </tr>\n",
       "    <tr>\n",
       "      <th>168</th>\n",
       "      <td>ETHC3</td>\n",
       "      <td>0.000000</td>\n",
       "    </tr>\n",
       "    <tr>\n",
       "      <th>167</th>\n",
       "      <td>ETHC2</td>\n",
       "      <td>0.000000</td>\n",
       "    </tr>\n",
       "    <tr>\n",
       "      <th>166</th>\n",
       "      <td>ETHC1</td>\n",
       "      <td>0.000000</td>\n",
       "    </tr>\n",
       "    <tr>\n",
       "      <th>165</th>\n",
       "      <td>HHD12</td>\n",
       "      <td>0.000000</td>\n",
       "    </tr>\n",
       "    <tr>\n",
       "      <th>240</th>\n",
       "      <td>TPE11</td>\n",
       "      <td>0.000000</td>\n",
       "    </tr>\n",
       "  </tbody>\n",
       "</table>\n",
       "<p>481 rows × 2 columns</p>\n",
       "</div>"
      ],
      "text/plain": [
       "    column_name  percentage_null_values\n",
       "414     RDATE_5               99.990567\n",
       "436     RAMNT_5               99.990567\n",
       "412     RDATE_3               99.746363\n",
       "434     RAMNT_3               99.746363\n",
       "413     RDATE_4               99.705488\n",
       "..          ...                     ...\n",
       "168       ETHC3                0.000000\n",
       "167       ETHC2                0.000000\n",
       "166       ETHC1                0.000000\n",
       "165       HHD12                0.000000\n",
       "240       TPE11                0.000000\n",
       "\n",
       "[481 rows x 2 columns]"
      ]
     },
     "execution_count": 11,
     "metadata": {},
     "output_type": "execute_result"
    }
   ],
   "source": [
    "nulls = check_nan(data)\n",
    "nulls"
   ]
  },
  {
   "cell_type": "code",
   "execution_count": 12,
   "id": "e307f54c",
   "metadata": {},
   "outputs": [
    {
     "data": {
      "text/html": [
       "<div>\n",
       "<style scoped>\n",
       "    .dataframe tbody tr th:only-of-type {\n",
       "        vertical-align: middle;\n",
       "    }\n",
       "\n",
       "    .dataframe tbody tr th {\n",
       "        vertical-align: top;\n",
       "    }\n",
       "\n",
       "    .dataframe thead th {\n",
       "        text-align: right;\n",
       "    }\n",
       "</style>\n",
       "<table border=\"1\" class=\"dataframe\">\n",
       "  <thead>\n",
       "    <tr style=\"text-align: right;\">\n",
       "      <th></th>\n",
       "      <th>percentage_null_values</th>\n",
       "    </tr>\n",
       "  </thead>\n",
       "  <tbody>\n",
       "    <tr>\n",
       "      <th>count</th>\n",
       "      <td>92.000000</td>\n",
       "    </tr>\n",
       "    <tr>\n",
       "      <th>mean</th>\n",
       "      <td>58.770249</td>\n",
       "    </tr>\n",
       "    <tr>\n",
       "      <th>std</th>\n",
       "      <td>32.281668</td>\n",
       "    </tr>\n",
       "    <tr>\n",
       "      <th>min</th>\n",
       "      <td>0.138347</td>\n",
       "    </tr>\n",
       "    <tr>\n",
       "      <th>25%</th>\n",
       "      <td>32.986941</td>\n",
       "    </tr>\n",
       "    <tr>\n",
       "      <th>50%</th>\n",
       "      <td>63.800675</td>\n",
       "    </tr>\n",
       "    <tr>\n",
       "      <th>75%</th>\n",
       "      <td>87.160944</td>\n",
       "    </tr>\n",
       "    <tr>\n",
       "      <th>max</th>\n",
       "      <td>99.990567</td>\n",
       "    </tr>\n",
       "  </tbody>\n",
       "</table>\n",
       "</div>"
      ],
      "text/plain": [
       "       percentage_null_values\n",
       "count               92.000000\n",
       "mean                58.770249\n",
       "std                 32.281668\n",
       "min                  0.138347\n",
       "25%                 32.986941\n",
       "50%                 63.800675\n",
       "75%                 87.160944\n",
       "max                 99.990567"
      ]
     },
     "execution_count": 12,
     "metadata": {},
     "output_type": "execute_result"
    }
   ],
   "source": [
    "only_nulls = nulls[nulls['percentage_null_values']>0]\n",
    "only_nulls.describe()\n"
   ]
  },
  {
   "cell_type": "markdown",
   "id": "3bf219ff",
   "metadata": {},
   "source": [
    "We create a list where we will put the columns we want to drop"
   ]
  },
  {
   "cell_type": "code",
   "execution_count": 13,
   "id": "ee989be6",
   "metadata": {},
   "outputs": [
    {
     "ename": "SyntaxError",
     "evalue": "invalid syntax (Temp/ipykernel_53552/1800545982.py, line 1)",
     "output_type": "error",
     "traceback": [
      "\u001b[1;36m  File \u001b[1;32m\"C:\\Users\\samag\\AppData\\Local\\Temp/ipykernel_53552/1800545982.py\"\u001b[1;36m, line \u001b[1;32m1\u001b[0m\n\u001b[1;33m    OSOURCE - symbol definitions not provided, too many categories \\ ZIP CODE - we are including state already\u001b[0m\n\u001b[1;37m                     ^\u001b[0m\n\u001b[1;31mSyntaxError\u001b[0m\u001b[1;31m:\u001b[0m invalid syntax\n"
     ]
    }
   ],
   "source": [
    "OSOURCE - symbol definitions not provided, too many categories \\ ZIP CODE - we are including state already"
   ]
  },
  {
   "cell_type": "code",
   "execution_count": 14,
   "id": "bcdcf897",
   "metadata": {},
   "outputs": [
    {
     "data": {
      "text/plain": [
       "0        61081\n",
       "1        91326\n",
       "2        27017\n",
       "3        95953\n",
       "4        33176\n",
       "         ...  \n",
       "95407    99504\n",
       "95408    77379\n",
       "95409    48910\n",
       "95410    91320\n",
       "95411    28409\n",
       "Name: ZIP, Length: 95412, dtype: object"
      ]
     },
     "execution_count": 14,
     "metadata": {},
     "output_type": "execute_result"
    }
   ],
   "source": [
    "data['ZIP']"
   ]
  },
  {
   "cell_type": "code",
   "execution_count": 15,
   "id": "4f5f66f0",
   "metadata": {},
   "outputs": [
    {
     "data": {
      "text/plain": [
       "['OSOURCE', 'ZIP']"
      ]
     },
     "execution_count": 15,
     "metadata": {},
     "output_type": "execute_result"
    }
   ],
   "source": [
    "drop_1 = data[['OSOURCE','ZIP']]\n",
    "drop_list = drop_1.columns.tolist()\n",
    "drop_list"
   ]
  },
  {
   "cell_type": "code",
   "execution_count": 16,
   "id": "b27f1bad",
   "metadata": {},
   "outputs": [
    {
     "ename": "SyntaxError",
     "evalue": "invalid syntax (Temp/ipykernel_53552/1547462560.py, line 1)",
     "output_type": "error",
     "traceback": [
      "\u001b[1;36m  File \u001b[1;32m\"C:\\Users\\samag\\AppData\\Local\\Temp/ipykernel_53552/1547462560.py\"\u001b[1;36m, line \u001b[1;32m1\u001b[0m\n\u001b[1;33m    Identify columns that over 85% missing values\u001b[0m\n\u001b[1;37m             ^\u001b[0m\n\u001b[1;31mSyntaxError\u001b[0m\u001b[1;31m:\u001b[0m invalid syntax\n"
     ]
    }
   ],
   "source": [
    "Identify columns that over 85% missing values"
   ]
  },
  {
   "cell_type": "code",
   "execution_count": 17,
   "id": "60c3bf20",
   "metadata": {},
   "outputs": [
    {
     "data": {
      "text/html": [
       "<div>\n",
       "<style scoped>\n",
       "    .dataframe tbody tr th:only-of-type {\n",
       "        vertical-align: middle;\n",
       "    }\n",
       "\n",
       "    .dataframe tbody tr th {\n",
       "        vertical-align: top;\n",
       "    }\n",
       "\n",
       "    .dataframe thead th {\n",
       "        text-align: right;\n",
       "    }\n",
       "</style>\n",
       "<table border=\"1\" class=\"dataframe\">\n",
       "  <thead>\n",
       "    <tr style=\"text-align: right;\">\n",
       "      <th></th>\n",
       "      <th>column_name</th>\n",
       "      <th>percentage_null_values</th>\n",
       "    </tr>\n",
       "  </thead>\n",
       "  <tbody>\n",
       "    <tr>\n",
       "      <th>414</th>\n",
       "      <td>RDATE_5</td>\n",
       "      <td>99.990567</td>\n",
       "    </tr>\n",
       "    <tr>\n",
       "      <th>436</th>\n",
       "      <td>RAMNT_5</td>\n",
       "      <td>99.990567</td>\n",
       "    </tr>\n",
       "    <tr>\n",
       "      <th>412</th>\n",
       "      <td>RDATE_3</td>\n",
       "      <td>99.746363</td>\n",
       "    </tr>\n",
       "    <tr>\n",
       "      <th>434</th>\n",
       "      <td>RAMNT_3</td>\n",
       "      <td>99.746363</td>\n",
       "    </tr>\n",
       "    <tr>\n",
       "      <th>413</th>\n",
       "      <td>RDATE_4</td>\n",
       "      <td>99.705488</td>\n",
       "    </tr>\n",
       "    <tr>\n",
       "      <th>435</th>\n",
       "      <td>RAMNT_4</td>\n",
       "      <td>99.705488</td>\n",
       "    </tr>\n",
       "    <tr>\n",
       "      <th>437</th>\n",
       "      <td>RAMNT_6</td>\n",
       "      <td>99.186685</td>\n",
       "    </tr>\n",
       "    <tr>\n",
       "      <th>415</th>\n",
       "      <td>RDATE_6</td>\n",
       "      <td>99.186685</td>\n",
       "    </tr>\n",
       "    <tr>\n",
       "      <th>446</th>\n",
       "      <td>RAMNT_15</td>\n",
       "      <td>92.388798</td>\n",
       "    </tr>\n",
       "    <tr>\n",
       "      <th>424</th>\n",
       "      <td>RDATE_15</td>\n",
       "      <td>92.388798</td>\n",
       "    </tr>\n",
       "    <tr>\n",
       "      <th>432</th>\n",
       "      <td>RDATE_23</td>\n",
       "      <td>91.763091</td>\n",
       "    </tr>\n",
       "    <tr>\n",
       "      <th>454</th>\n",
       "      <td>RAMNT_23</td>\n",
       "      <td>91.763091</td>\n",
       "    </tr>\n",
       "    <tr>\n",
       "      <th>429</th>\n",
       "      <td>RDATE_20</td>\n",
       "      <td>91.732696</td>\n",
       "    </tr>\n",
       "    <tr>\n",
       "      <th>451</th>\n",
       "      <td>RAMNT_20</td>\n",
       "      <td>91.732696</td>\n",
       "    </tr>\n",
       "    <tr>\n",
       "      <th>438</th>\n",
       "      <td>RAMNT_7</td>\n",
       "      <td>90.677273</td>\n",
       "    </tr>\n",
       "    <tr>\n",
       "      <th>416</th>\n",
       "      <td>RDATE_7</td>\n",
       "      <td>90.677273</td>\n",
       "    </tr>\n",
       "    <tr>\n",
       "      <th>448</th>\n",
       "      <td>RAMNT_17</td>\n",
       "      <td>90.146942</td>\n",
       "    </tr>\n",
       "    <tr>\n",
       "      <th>426</th>\n",
       "      <td>RDATE_17</td>\n",
       "      <td>90.146942</td>\n",
       "    </tr>\n",
       "    <tr>\n",
       "      <th>430</th>\n",
       "      <td>RDATE_21</td>\n",
       "      <td>90.029556</td>\n",
       "    </tr>\n",
       "    <tr>\n",
       "      <th>452</th>\n",
       "      <td>RAMNT_21</td>\n",
       "      <td>90.029556</td>\n",
       "    </tr>\n",
       "    <tr>\n",
       "      <th>441</th>\n",
       "      <td>RAMNT_10</td>\n",
       "      <td>89.035970</td>\n",
       "    </tr>\n",
       "    <tr>\n",
       "      <th>419</th>\n",
       "      <td>RDATE_10</td>\n",
       "      <td>89.035970</td>\n",
       "    </tr>\n",
       "    <tr>\n",
       "      <th>422</th>\n",
       "      <td>RDATE_13</td>\n",
       "      <td>87.160944</td>\n",
       "    </tr>\n",
       "    <tr>\n",
       "      <th>444</th>\n",
       "      <td>RAMNT_13</td>\n",
       "      <td>87.160944</td>\n",
       "    </tr>\n",
       "    <tr>\n",
       "      <th>23</th>\n",
       "      <td>NUMCHLD</td>\n",
       "      <td>87.018404</td>\n",
       "    </tr>\n",
       "  </tbody>\n",
       "</table>\n",
       "</div>"
      ],
      "text/plain": [
       "    column_name  percentage_null_values\n",
       "414     RDATE_5               99.990567\n",
       "436     RAMNT_5               99.990567\n",
       "412     RDATE_3               99.746363\n",
       "434     RAMNT_3               99.746363\n",
       "413     RDATE_4               99.705488\n",
       "435     RAMNT_4               99.705488\n",
       "437     RAMNT_6               99.186685\n",
       "415     RDATE_6               99.186685\n",
       "446    RAMNT_15               92.388798\n",
       "424    RDATE_15               92.388798\n",
       "432    RDATE_23               91.763091\n",
       "454    RAMNT_23               91.763091\n",
       "429    RDATE_20               91.732696\n",
       "451    RAMNT_20               91.732696\n",
       "438     RAMNT_7               90.677273\n",
       "416     RDATE_7               90.677273\n",
       "448    RAMNT_17               90.146942\n",
       "426    RDATE_17               90.146942\n",
       "430    RDATE_21               90.029556\n",
       "452    RAMNT_21               90.029556\n",
       "441    RAMNT_10               89.035970\n",
       "419    RDATE_10               89.035970\n",
       "422    RDATE_13               87.160944\n",
       "444    RAMNT_13               87.160944\n",
       "23      NUMCHLD               87.018404"
      ]
     },
     "execution_count": 17,
     "metadata": {},
     "output_type": "execute_result"
    }
   ],
   "source": [
    "eighty_five = nulls[nulls['percentage_null_values']>=85]\n",
    "eighty_five"
   ]
  },
  {
   "cell_type": "code",
   "execution_count": 18,
   "id": "bcf39fc6",
   "metadata": {},
   "outputs": [
    {
     "data": {
      "text/plain": [
       "['OSOURCE',\n",
       " 'ZIP',\n",
       " 'RDATE_5',\n",
       " 'RAMNT_5',\n",
       " 'RDATE_3',\n",
       " 'RAMNT_3',\n",
       " 'RDATE_4',\n",
       " 'RAMNT_4',\n",
       " 'RAMNT_6',\n",
       " 'RDATE_6',\n",
       " 'RAMNT_15',\n",
       " 'RDATE_15',\n",
       " 'RDATE_23',\n",
       " 'RAMNT_23',\n",
       " 'RDATE_20',\n",
       " 'RAMNT_20',\n",
       " 'RAMNT_7',\n",
       " 'RDATE_7',\n",
       " 'RAMNT_17',\n",
       " 'RDATE_17',\n",
       " 'RDATE_21',\n",
       " 'RAMNT_21',\n",
       " 'RAMNT_10',\n",
       " 'RDATE_10',\n",
       " 'RDATE_13',\n",
       " 'RAMNT_13',\n",
       " 'NUMCHLD']"
      ]
     },
     "execution_count": 18,
     "metadata": {},
     "output_type": "execute_result"
    }
   ],
   "source": [
    "for name in eighty_five.column_name:\n",
    "    drop_list.append(name)\n",
    "    \n",
    "drop_list"
   ]
  },
  {
   "cell_type": "markdown",
   "id": "7753c706",
   "metadata": {},
   "source": [
    "Removing those columns from the dataframe"
   ]
  },
  {
   "cell_type": "code",
   "execution_count": 19,
   "id": "02d3bca6",
   "metadata": {},
   "outputs": [
    {
     "data": {
      "text/html": [
       "<div>\n",
       "<style scoped>\n",
       "    .dataframe tbody tr th:only-of-type {\n",
       "        vertical-align: middle;\n",
       "    }\n",
       "\n",
       "    .dataframe tbody tr th {\n",
       "        vertical-align: top;\n",
       "    }\n",
       "\n",
       "    .dataframe thead th {\n",
       "        text-align: right;\n",
       "    }\n",
       "</style>\n",
       "<table border=\"1\" class=\"dataframe\">\n",
       "  <thead>\n",
       "    <tr style=\"text-align: right;\">\n",
       "      <th></th>\n",
       "      <th>column_name</th>\n",
       "      <th>percentage_null_values</th>\n",
       "    </tr>\n",
       "  </thead>\n",
       "  <tbody>\n",
       "    <tr>\n",
       "      <th>421</th>\n",
       "      <td>RAMNT_11</td>\n",
       "      <td>84.551209</td>\n",
       "    </tr>\n",
       "    <tr>\n",
       "      <th>411</th>\n",
       "      <td>RDATE_11</td>\n",
       "      <td>84.551209</td>\n",
       "    </tr>\n",
       "    <tr>\n",
       "      <th>426</th>\n",
       "      <td>RAMNT_19</td>\n",
       "      <td>83.359535</td>\n",
       "    </tr>\n",
       "    <tr>\n",
       "      <th>416</th>\n",
       "      <td>RDATE_19</td>\n",
       "      <td>83.359535</td>\n",
       "    </tr>\n",
       "    <tr>\n",
       "      <th>410</th>\n",
       "      <td>RDATE_9</td>\n",
       "      <td>82.461326</td>\n",
       "    </tr>\n",
       "    <tr>\n",
       "      <th>...</th>\n",
       "      <td>...</td>\n",
       "      <td>...</td>\n",
       "    </tr>\n",
       "    <tr>\n",
       "      <th>192</th>\n",
       "      <td>MSA</td>\n",
       "      <td>0.138347</td>\n",
       "    </tr>\n",
       "    <tr>\n",
       "      <th>193</th>\n",
       "      <td>ADI</td>\n",
       "      <td>0.138347</td>\n",
       "    </tr>\n",
       "    <tr>\n",
       "      <th>194</th>\n",
       "      <td>DMA</td>\n",
       "      <td>0.138347</td>\n",
       "    </tr>\n",
       "    <tr>\n",
       "      <th>453</th>\n",
       "      <td>GEOCODE2</td>\n",
       "      <td>0.138347</td>\n",
       "    </tr>\n",
       "    <tr>\n",
       "      <th>452</th>\n",
       "      <td>CLUSTER2</td>\n",
       "      <td>0.138347</td>\n",
       "    </tr>\n",
       "  </tbody>\n",
       "</table>\n",
       "<p>67 rows × 2 columns</p>\n",
       "</div>"
      ],
      "text/plain": [
       "    column_name  percentage_null_values\n",
       "421    RAMNT_11               84.551209\n",
       "411    RDATE_11               84.551209\n",
       "426    RAMNT_19               83.359535\n",
       "416    RDATE_19               83.359535\n",
       "410     RDATE_9               82.461326\n",
       "..          ...                     ...\n",
       "192         MSA                0.138347\n",
       "193         ADI                0.138347\n",
       "194         DMA                0.138347\n",
       "453    GEOCODE2                0.138347\n",
       "452    CLUSTER2                0.138347\n",
       "\n",
       "[67 rows x 2 columns]"
      ]
     },
     "execution_count": 19,
     "metadata": {},
     "output_type": "execute_result"
    }
   ],
   "source": [
    "data_no_nulls = data.drop(columns=drop_list)\n",
    "nulls_2 = check_nan(data_no_nulls)\n",
    "nulls_2 = nulls_2[nulls_2['percentage_null_values']>0]\n",
    "nulls_2"
   ]
  },
  {
   "cell_type": "code",
   "execution_count": 20,
   "id": "ea8a0e81",
   "metadata": {},
   "outputs": [
    {
     "data": {
      "text/html": [
       "<div>\n",
       "<style scoped>\n",
       "    .dataframe tbody tr th:only-of-type {\n",
       "        vertical-align: middle;\n",
       "    }\n",
       "\n",
       "    .dataframe tbody tr th {\n",
       "        vertical-align: top;\n",
       "    }\n",
       "\n",
       "    .dataframe thead th {\n",
       "        text-align: right;\n",
       "    }\n",
       "</style>\n",
       "<table border=\"1\" class=\"dataframe\">\n",
       "  <thead>\n",
       "    <tr style=\"text-align: right;\">\n",
       "      <th></th>\n",
       "      <th>percentage_null_values</th>\n",
       "    </tr>\n",
       "  </thead>\n",
       "  <tbody>\n",
       "    <tr>\n",
       "      <th>count</th>\n",
       "      <td>67.000000</td>\n",
       "    </tr>\n",
       "    <tr>\n",
       "      <th>mean</th>\n",
       "      <td>45.921130</td>\n",
       "    </tr>\n",
       "    <tr>\n",
       "      <th>std</th>\n",
       "      <td>28.493307</td>\n",
       "    </tr>\n",
       "    <tr>\n",
       "      <th>min</th>\n",
       "      <td>0.138347</td>\n",
       "    </tr>\n",
       "    <tr>\n",
       "      <th>25%</th>\n",
       "      <td>21.814342</td>\n",
       "    </tr>\n",
       "    <tr>\n",
       "      <th>50%</th>\n",
       "      <td>55.395548</td>\n",
       "    </tr>\n",
       "    <tr>\n",
       "      <th>75%</th>\n",
       "      <td>73.064185</td>\n",
       "    </tr>\n",
       "    <tr>\n",
       "      <th>max</th>\n",
       "      <td>84.551209</td>\n",
       "    </tr>\n",
       "  </tbody>\n",
       "</table>\n",
       "</div>"
      ],
      "text/plain": [
       "       percentage_null_values\n",
       "count               67.000000\n",
       "mean                45.921130\n",
       "std                 28.493307\n",
       "min                  0.138347\n",
       "25%                 21.814342\n",
       "50%                 55.395548\n",
       "75%                 73.064185\n",
       "max                 84.551209"
      ]
     },
     "execution_count": 20,
     "metadata": {},
     "output_type": "execute_result"
    }
   ],
   "source": [
    "nulls_2.describe()"
   ]
  },
  {
   "cell_type": "markdown",
   "id": "95749b01",
   "metadata": {},
   "source": [
    "# Data Cleaning"
   ]
  },
  {
   "cell_type": "markdown",
   "id": "6a11bf4c",
   "metadata": {},
   "source": [
    "Cleaning Gender"
   ]
  },
  {
   "cell_type": "code",
   "execution_count": 21,
   "id": "1c04b5cf",
   "metadata": {},
   "outputs": [
    {
     "data": {
      "text/plain": [
       "F    51277\n",
       "M    39094\n",
       "      2957\n",
       "U     1715\n",
       "J      365\n",
       "C        2\n",
       "A        2\n",
       "Name: GENDER, dtype: int64"
      ]
     },
     "execution_count": 21,
     "metadata": {},
     "output_type": "execute_result"
    }
   ],
   "source": [
    "data_no_nulls.GENDER.value_counts()"
   ]
  },
  {
   "cell_type": "code",
   "execution_count": 22,
   "id": "ec28e35b",
   "metadata": {},
   "outputs": [
    {
     "data": {
      "text/plain": [
       "F        51277\n",
       "M        39094\n",
       "other     5041\n",
       "Name: GENDER, dtype: int64"
      ]
     },
     "execution_count": 22,
     "metadata": {},
     "output_type": "execute_result"
    }
   ],
   "source": [
    "data_no_nulls['GENDER'] = np.where(data_no_nulls['GENDER'].isin(['F','M']), data_no_nulls['GENDER'], \"other\")\n",
    "data_no_nulls.GENDER.value_counts()"
   ]
  },
  {
   "cell_type": "markdown",
   "id": "79d402cd",
   "metadata": {},
   "source": [
    "Checking and cleaning the Nans in GENDER"
   ]
  },
  {
   "cell_type": "markdown",
   "id": "09187b62",
   "metadata": {},
   "source": [
    "No nulls in the column"
   ]
  },
  {
   "cell_type": "code",
   "execution_count": 23,
   "id": "f72371fa",
   "metadata": {},
   "outputs": [
    {
     "data": {
      "text/plain": [
       "0"
      ]
     },
     "execution_count": 23,
     "metadata": {},
     "output_type": "execute_result"
    }
   ],
   "source": [
    "data_no_nulls.GENDER.isna().sum()"
   ]
  },
  {
   "cell_type": "code",
   "execution_count": null,
   "id": "5db4459c",
   "metadata": {},
   "outputs": [],
   "source": []
  },
  {
   "cell_type": "code",
   "execution_count": null,
   "id": "3c5d1d3d",
   "metadata": {},
   "outputs": [],
   "source": []
  },
  {
   "cell_type": "code",
   "execution_count": null,
   "id": "f6bac18e",
   "metadata": {},
   "outputs": [],
   "source": []
  },
  {
   "cell_type": "code",
   "execution_count": null,
   "id": "68f4a25a",
   "metadata": {},
   "outputs": [],
   "source": []
  }
 ],
 "metadata": {
  "kernelspec": {
   "display_name": "Python 3 (ipykernel)",
   "language": "python",
   "name": "python3"
  },
  "language_info": {
   "codemirror_mode": {
    "name": "ipython",
    "version": 3
   },
   "file_extension": ".py",
   "mimetype": "text/x-python",
   "name": "python",
   "nbconvert_exporter": "python",
   "pygments_lexer": "ipython3",
   "version": "3.9.7"
  }
 },
 "nbformat": 4,
 "nbformat_minor": 5
}
